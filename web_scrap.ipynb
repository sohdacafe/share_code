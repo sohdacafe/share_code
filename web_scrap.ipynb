{
 "cells": [
  {
   "cell_type": "markdown",
   "metadata": {},
   "source": [
    "# webスクレイビング\n",
    "* Beautiful soup : HTMLの読み取り、構造解析のためのライブラリ\n",
    "* selenium : ブラウザ操作を自動化することができるライブラリ"
   ]
  },
  {
   "cell_type": "markdown",
   "metadata": {},
   "source": [
    "## BeautifulSoupによるスクレイピング"
   ]
  },
  {
   "cell_type": "markdown",
   "metadata": {},
   "source": [
    "#### ライブラリのインポート\n",
    "* requestsとbs4。"
   ]
  },
  {
   "cell_type": "code",
   "execution_count": 17,
   "metadata": {},
   "outputs": [],
   "source": [
    "import requests\n",
    "from time import sleep\n",
    "from bs4 import BeautifulSoup"
   ]
  },
  {
   "cell_type": "markdown",
   "metadata": {},
   "source": [
    "#### requestでページ情報を取得"
   ]
  },
  {
   "cell_type": "code",
   "execution_count": 50,
   "metadata": {},
   "outputs": [
    {
     "name": "stdout",
     "output_type": "stream",
     "text": [
      "<Response [200]>\n"
     ]
    }
   ],
   "source": [
    "url = 'https://yahoo.co.jp'\n",
    "res = requests.get(url)\n",
    "res.status_code\n",
    "print(res)"
   ]
  },
  {
   "cell_type": "markdown",
   "metadata": {},
   "source": [
    "#### BeautifulSoupによる構造解析\n",
    "* #html.parser:HTMLの構造を解析するもの\n",
    "* 変数soupにhtml_docの構造解析したものを格納\n",
    "* .prettify()で構造を見やすくした形で出力できる"
   ]
  },
  {
   "cell_type": "code",
   "execution_count": 45,
   "metadata": {},
   "outputs": [
    {
     "name": "stdout",
     "output_type": "stream",
     "text": [
      "PE html><html lang=\"ja\"><head><meta charSet=\"utf-8\"/><meta http-equiv=\"X-UA-Compatible\" content=\"IE=edge,chrome=1\"/><title>Yahoo! JAPAN</title><meta name=\"description\" content=\"あなたの毎日をアップデートする情報ポータル。検索、ニュース、天気、スポーツ、メール、ショッピング、オークションなど便利なサービスを展開しています。\"/><meta name=\"robots\" content=\"noodp\"/><meta name=\"viewport\" content=\"width=1010\"/><link rel=\"dns-prefetch\" href=\"//s.yimg.jp\"/><link rel=\"dns-prefetch\" href=\"//yads.c.yimg.jp\"/><meta name=\"google-site-verification\" content=\"fsLMOiigp5fIpCDME\n",
      "\n",
      "-*-*-*-*-*-*-*-*-*-*-*-*-*-*-*-*-*-*-*-*-*-*-*-*\n",
      "\n",
      "<!DOCTYPE html>\n",
      "<html lang=\"ja\">\n",
      " <head>\n",
      "  <meta charset=\"utf-8\"/>\n",
      "  <meta content=\"IE=edge,chrome=1\" http-equiv=\"X-UA-Compatible\"/>\n",
      "  <title>\n",
      "   Yahoo! JAPAN\n",
      "  </title>\n",
      "  <meta content=\"あなたの毎日をアップデートする情報ポータル。検索、ニュース、天気、スポーツ、メール、ショッピング、オークションなど便利なサービスを展開しています。\" name=\"description\"/>\n",
      "  <meta content=\"noodp\" name=\"robots\"/>\n",
      "  <meta content=\"width=1010\" name=\"viewport\"/>\n",
      "  <link href=\"//s.yimg.jp\" rel=\"dns-prefetch\"/>\n",
      "  <link href=\"//yads.c.yimg.jp\" rel=\"dns-prefetch\"/>\n",
      "  <meta content=\"fsLMOiigp5fI\n"
     ]
    }
   ],
   "source": [
    "html_doc = res.text\n",
    "print(html_doc[7:500])\n",
    "print('\\n' + '-*-*-*-*-*-*-*-*-*-*-*-*-*-*-*-*-*-*-*-*-*-*-*-*' + '\\n')\n",
    "soup = BeautifulSoup(html_doc, 'html.parser') # htmlドキュメントを解析\n",
    "print(soup.prettify()[:500]) # prettifyでさらに構造をわかりやすく表示"
   ]
  },
  {
   "cell_type": "markdown",
   "metadata": {},
   "source": [
    "#### タグによるデータ取得\n",
    "* p_0 = soup.find_all('p')[0] #1番目のpタグを取得\n",
    "* find_allメソッドはリストのような形式になっているので、pタグすべて取得し、リスト番号で選択することが可能"
   ]
  },
  {
   "cell_type": "markdown",
   "metadata": {},
   "source": [
    "#### "
   ]
  },
  {
   "cell_type": "code",
   "execution_count": 28,
   "metadata": {},
   "outputs": [
    {
     "name": "stdout",
     "output_type": "stream",
     "text": [
      "<p class=\"oLvk9L5Yk-9JOuzi-OHW5\"><span class=\"t_jb9bKlgIcajcRS2hZAP\">PayPay STEP</span><span class=\"_2Uq6Pw5lfFfxr_OD36xHp6 _1dr5aVDbNPF63JCS2bJhij _18UPg6R6cxJSC9JHKF8juc\" style=\"width:38px;height:38px\"></span></p>\n",
      "[<title>Yahoo! JAPAN</title>]\n"
     ]
    }
   ],
   "source": [
    "p_0 = soup.find_all('p')[0] #1番目のpタグを取得\n",
    "print(p_0)\n",
    "t_all = soup.find_all('title') #find_allでタグの物を全て取得\n",
    "print(t_all)"
   ]
  },
  {
   "cell_type": "markdown",
   "metadata": {},
   "source": [
    "#### タグ名指定で情報取得\n",
    "* タグ名指定でも取得可能\n",
    "* タグ名＋textで中身だけ抽出"
   ]
  },
  {
   "cell_type": "code",
   "execution_count": 30,
   "metadata": {},
   "outputs": [
    {
     "data": {
      "text/plain": [
       "'Yahoo! JAPAN'"
      ]
     },
     "execution_count": 30,
     "metadata": {},
     "output_type": "execute_result"
    }
   ],
   "source": [
    "soup.title\n",
    "soup.title.text"
   ]
  },
  {
   "cell_type": "markdown",
   "metadata": {},
   "source": [
    "#### タグ名取得の範囲を絞る\n",
    "* 情報を取得する範囲を絞る。タグを指定し、attrs引数で絞る(classを指定して取得)\n",
    "* .textでテキストを抽出(.get_text()でも可)"
   ]
  },
  {
   "cell_type": "code",
   "execution_count": 37,
   "metadata": {},
   "outputs": [
    {
     "name": "stdout",
     "output_type": "stream",
     "text": [
      "露 西部リビウをミサイル攻撃か\n",
      "露 西部リビウをミサイル攻撃か\n"
     ]
    }
   ],
   "source": [
    "# attrsでclass指定\n",
    "head_news = soup.find_all('h1', attrs={'class' : '_3cl937Zpn1ce8mDKd5kp7u'})\n",
    "top_topic = soup.find_all('h1', attrs={'class' : '_3cl937Zpn1ce8mDKd5kp7u'})[0]\n",
    "print(top_topic.text)\n",
    "\n",
    "# 範囲指定\n",
    "top_topic_all = soup.find_all('h1', class_= '_3cl937Zpn1ce8mDKd5kp7u')  \n",
    "print(top_topic_all[0].get_text())"
   ]
  },
  {
   "cell_type": "markdown",
   "metadata": {},
   "source": [
    "#### 間隔をあけて情報を読み取り\n",
    "* for loop間にsleepを入れる"
   ]
  },
  {
   "cell_type": "code",
   "execution_count": 38,
   "metadata": {},
   "outputs": [
    {
     "name": "stdout",
     "output_type": "stream",
     "text": [
      "露 西部リビウをミサイル攻撃か\n",
      "九州-東北は気温上昇 暑さ対策を\n",
      "海底の船内にカメラ 手がかりなし\n",
      "教員から性暴力 23年後にPTSD\n",
      "組関連施設に車が突入 容疑者逮捕\n",
      "日系初の米閣僚 ミネタ氏が死去\n",
      "大谷スタメン 股関節張りから復帰\n",
      "リバプール後半3ゴール CL決勝へ\n"
     ]
    }
   ],
   "source": [
    "for head_new in head_news :\n",
    "    print(head_new.text)\n",
    "    sleep(2)"
   ]
  },
  {
   "cell_type": "markdown",
   "metadata": {},
   "source": [
    "#### タグの指定\n",
    "* aタグ : ページ遷移のためのhtmlタグ。\n",
    "* a href=\"xxxx\" xxxxに遷移先のURLを記載"
   ]
  },
  {
   "cell_type": "code",
   "execution_count": 95,
   "metadata": {},
   "outputs": [
    {
     "name": "stdout",
     "output_type": "stream",
     "text": [
      "ウェブ\n",
      "https://search.yahoo.co.jp/\n"
     ]
    }
   ],
   "source": [
    "soup.find_all('a') # aタグ取得\n",
    "lists = soup.find_all('a')[7:20] # 範囲指定して取得\n",
    "print(lists[0].string) # 指定した範囲のテキストを取得\n",
    "print(lists[0].attrs['href']) # attrsを指定してURLを取得"
   ]
  },
  {
   "cell_type": "code",
   "execution_count": 108,
   "metadata": {},
   "outputs": [],
   "source": [
    "# タイトルとURLのリストを作成\n",
    "topic = []\n",
    "url = []\n",
    "\n",
    "for li in lists :\n",
    "    topic.append(li.string)\n",
    "    url.append(li.attrs['href'])"
   ]
  },
  {
   "cell_type": "code",
   "execution_count": 121,
   "metadata": {},
   "outputs": [
    {
     "name": "stdout",
     "output_type": "stream",
     "text": [
      "  topic                               URL\n",
      "0   ウェブ       https://search.yahoo.co.jp/\n",
      "1    画像  https://search.yahoo.co.jp/image\n",
      "2    動画  https://search.yahoo.co.jp/video\n",
      "3   知恵袋   https://chiebukuro.yahoo.co.jp/\n",
      "4    地図          https://map.yahoo.co.jp/\n"
     ]
    }
   ],
   "source": [
    "# リストを表にして書き出し\n",
    "import pandas as pd\n",
    "df = pd.DataFrame({'topic':topic, 'URL':url})\n",
    "df = df.dropna(how='any') # 欠損値除外\n",
    "print(df[:5])"
   ]
  },
  {
   "cell_type": "markdown",
   "metadata": {},
   "source": [
    "#### 特定の文字列を含む要素を抽出\n",
    "* str.contains('xxxx') 特定の文字列を含む場合True\n",
    "* str.startswith('xxxx') 特定の文字列で始まる, str.endswith('xxxx') 特定の文字列で終わる"
   ]
  },
  {
   "cell_type": "code",
   "execution_count": 123,
   "metadata": {},
   "outputs": [
    {
     "data": {
      "text/html": [
       "<div>\n",
       "<style scoped>\n",
       "    .dataframe tbody tr th:only-of-type {\n",
       "        vertical-align: middle;\n",
       "    }\n",
       "\n",
       "    .dataframe tbody tr th {\n",
       "        vertical-align: top;\n",
       "    }\n",
       "\n",
       "    .dataframe thead th {\n",
       "        text-align: right;\n",
       "    }\n",
       "</style>\n",
       "<table border=\"1\" class=\"dataframe\">\n",
       "  <thead>\n",
       "    <tr style=\"text-align: right;\">\n",
       "      <th></th>\n",
       "      <th>topic</th>\n",
       "      <th>URL</th>\n",
       "    </tr>\n",
       "  </thead>\n",
       "  <tbody>\n",
       "    <tr>\n",
       "      <th>1</th>\n",
       "      <td>画像</td>\n",
       "      <td>https://search.yahoo.co.jp/image</td>\n",
       "    </tr>\n",
       "  </tbody>\n",
       "</table>\n",
       "</div>"
      ],
      "text/plain": [
       "  topic                               URL\n",
       "1    画像  https://search.yahoo.co.jp/image"
      ]
     },
     "execution_count": 123,
     "metadata": {},
     "output_type": "execute_result"
    }
   ],
   "source": [
    "df[df['topic'].str.contains('画像')]"
   ]
  },
  {
   "cell_type": "markdown",
   "metadata": {},
   "source": []
  },
  {
   "cell_type": "markdown",
   "metadata": {},
   "source": [
    "## seleniumによるスクレイピング\n",
    "* ChromeDriverによってブラウザを操作する。Google Chromeのver.に合ったChromeDriverをインストールする。"
   ]
  },
  {
   "cell_type": "markdown",
   "metadata": {},
   "source": [
    "#### ライブラリのインポート\n",
    "* Seleniumとtime。timeは処理待ちや、サーバーに負荷をかけないため。"
   ]
  },
  {
   "cell_type": "code",
   "execution_count": 125,
   "metadata": {},
   "outputs": [],
   "source": [
    "from selenium import webdriver\n",
    "from time import sleep"
   ]
  },
  {
   "cell_type": "code",
   "execution_count": 2,
   "metadata": {},
   "outputs": [],
   "source": [
    "# アクセスするためのアカウントとパスワード\n",
    "USER = 'test_user'\n",
    "PASS = 'test_pw'"
   ]
  },
  {
   "cell_type": "markdown",
   "metadata": {},
   "source": [
    "#### ブラウザの起動と終了"
   ]
  },
  {
   "cell_type": "code",
   "execution_count": 128,
   "metadata": {},
   "outputs": [],
   "source": [
    "chromedriver_path = r'C:\\Users\\sohda\\.vscode\\chromedriver\\chromedriver.exe'"
   ]
  },
  {
   "cell_type": "code",
   "execution_count": 126,
   "metadata": {},
   "outputs": [
    {
     "name": "stderr",
     "output_type": "stream",
     "text": [
      "C:\\Users\\sohda\\AppData\\Local\\Temp\\ipykernel_1188\\167403847.py:2: DeprecationWarning: executable_path has been deprecated, please pass in a Service object\n",
      "  browser = webdriver.Chrome(executable_path = chromedriver_path)\n"
     ]
    }
   ],
   "source": [
    "browser = webdriver.Chrome(executable_path = chromedriver_path)\n",
    "# ChromeDriverのパスを記述\n",
    "# brouserはインスタンスとして起動。インスタンスを2つ作りたい場合は変数を変える。\n",
    "sleep(5)\n",
    "url = 'https://yahoo.co.jp'\n",
    "browser.get(url) # get()メソッドで指定したURLへ遷移\n",
    "\n",
    "browser.quit() "
   ]
  },
  {
   "cell_type": "code",
   "execution_count": 129,
   "metadata": {},
   "outputs": [
    {
     "name": "stderr",
     "output_type": "stream",
     "text": [
      "C:\\Users\\sohda\\AppData\\Local\\Temp\\ipykernel_1188\\2084062545.py:1: DeprecationWarning: executable_path has been deprecated, please pass in a Service object\n",
      "  browser = webdriver.Chrome(chromedriver_path)\n"
     ]
    },
    {
     "name": "stdout",
     "output_type": "stream",
     "text": [
      "ページにアクセスしました。\n"
     ]
    }
   ],
   "source": [
    "browser = webdriver.Chrome(chromedriver_path)\n",
    "url = 'https://yahoo.co.jp'\n",
    "browser.get(url)\n",
    "sleep(3)\n",
    "print('ページにアクセスしました。')"
   ]
  },
  {
   "cell_type": "markdown",
   "metadata": {},
   "source": [
    "#### 要素の指定\n",
    "* ブラウザから検証を選択、調べたい要素を選択。classやidなどを元にコードに記載\n",
    "* browser.find_element_by_xxxx() で要素を指定する"
   ]
  },
  {
   "cell_type": "code",
   "execution_count": 16,
   "metadata": {},
   "outputs": [
    {
     "name": "stdout",
     "output_type": "stream",
     "text": [
      "改憲論に勢い「危機便乗」批判も\n",
      "ロシア 制裁企業向け輸出など禁止\n",
      "露側が設置「収容施設」で拷問か\n",
      "高速道路 上りピーク予想は5日\n",
      "JRの「廃線」匂わせ 住民ら困惑\n",
      "ハワイの両替所「円がない」なぜ\n",
      "まさか 7失点オリ由伸「悔しい」\n",
      "「おめでた」聞かないで アナ思い\n"
     ]
    },
    {
     "name": "stderr",
     "output_type": "stream",
     "text": [
      "C:\\Users\\sohda\\AppData\\Local\\Temp\\ipykernel_1188\\1327200979.py:1: DeprecationWarning: find_elements_by_class_name is deprecated. Please use find_elements(by=By.CLASS_NAME, value=name) instead\n",
      "  elems_class = browser.find_elements_by_class_name('_3cl937Zpn1ce8mDKd5kp7u')\n"
     ]
    }
   ],
   "source": [
    "elems_class = browser.find_elements_by_class_name('_3cl937Zpn1ce8mDKd5kp7u')\n",
    "for elem in elems_class :\n",
    "    news_title = elem.text\n",
    "    print(news_title)"
   ]
  },
  {
   "cell_type": "markdown",
   "metadata": {},
   "source": [
    "#### 要素に入力\n",
    "* find_element_by_xxxx で要素を指定\n",
    "* clear()メソッドでいったん空欄を空にする\n",
    "* send_keys()メソッドで要素に入力"
   ]
  },
  {
   "cell_type": "code",
   "execution_count": null,
   "metadata": {},
   "outputs": [],
   "source": [
    "element = browser.find_element_by_id('xxxx')\n",
    "element.clear()\n",
    "element.send_keys('xxxx')"
   ]
  },
  {
   "cell_type": "markdown",
   "metadata": {},
   "source": [
    "#### フォームを送信\n",
    "* click()メソッドで情報を送信"
   ]
  },
  {
   "cell_type": "code",
   "execution_count": null,
   "metadata": {},
   "outputs": [],
   "source": [
    "browser_from = browser.find_element_by_name('xxxx')\n",
    "time.sleep(3)\n",
    "browser_from.click()\n",
    "print('情報を入力, ログインボタンを押しました\")"
   ]
  },
  {
   "cell_type": "markdown",
   "metadata": {},
   "source": [
    "#### HTMLのID、class、nameがわからない場合の要素の指定方法\n",
    "* HTMLのIDやnameが分からないときに、要素を右クリックし'copy_full_xpath'で要素を取得\n",
    "* find_element_by_xpath()の引数にパスを指定する"
   ]
  },
  {
   "cell_type": "markdown",
   "metadata": {},
   "source": [
    "#### ファイルのダウンロード\n",
    "* ダウンロードの要素を指定し、click()メソッドでダウンロードを行う"
   ]
  },
  {
   "cell_type": "code",
   "execution_count": null,
   "metadata": {},
   "outputs": [],
   "source": []
  },
  {
   "cell_type": "markdown",
   "metadata": {},
   "source": [
    "## 応用操作編"
   ]
  },
  {
   "cell_type": "markdown",
   "metadata": {},
   "source": [
    "#### 複数のウインドウハンドルを取得"
   ]
  },
  {
   "cell_type": "code",
   "execution_count": 131,
   "metadata": {},
   "outputs": [
    {
     "name": "stderr",
     "output_type": "stream",
     "text": [
      "C:\\Users\\sohda\\AppData\\Local\\Temp\\ipykernel_1188\\1303383131.py:2: DeprecationWarning: executable_path has been deprecated, please pass in a Service object\n",
      "  browser_2 = webdriver.Chrome(chromedriver_path)\n"
     ]
    }
   ],
   "source": [
    "chromedriver_path = r'C:\\Users\\sohda\\.vscode\\chromedriver\\chromedriver.exe'\n",
    "browser_2 = webdriver.Chrome(chromedriver_path)\n",
    "url = 'https://yahoo.co.jp'\n",
    "browser_2.get(url)"
   ]
  },
  {
   "cell_type": "markdown",
   "metadata": {},
   "source": [
    "#### 制御ウィンドウの切り替え\n",
    "* カレントウインドウ(制御対象)のハンドルのみを取得する : current_window_handle\n",
    "* カレントセッション(指定したインスタンス)全てのハンドルを取得 : window_handles\n",
    "* window_handlesは複数取得したウインドウハンドルをswitch_to_window(xxx)で指定し制御を切り替え出来る。"
   ]
  },
  {
   "cell_type": "code",
   "execution_count": 138,
   "metadata": {},
   "outputs": [
    {
     "name": "stdout",
     "output_type": "stream",
     "text": [
      "CDwindow-5CED8D7EE6769767D1F8DDC37064E299\n",
      "CDwindow-DBAB60834DF7AC41EC5DB168742497F3\n",
      "CDwindow-C22A1796C4E70C3F8718889D64200CAF\n",
      "CDwindow-B8E8B757BD5D688FC5DFB9FB178F7896\n"
     ]
    }
   ],
   "source": [
    "w_lists = browser_2.window_handles\n",
    "\n",
    "for w_list in w_lists : \n",
    "    print(w_list)\n",
    "    browser_2.switch_to.window(w_list)\n",
    "    sleep(2)"
   ]
  },
  {
   "cell_type": "code",
   "execution_count": 140,
   "metadata": {},
   "outputs": [],
   "source": [
    "w_lists = browser_2.window_handles\n",
    "browser_2.switch_to.window(w_lists[0])"
   ]
  },
  {
   "cell_type": "code",
   "execution_count": 35,
   "metadata": {},
   "outputs": [
    {
     "name": "stdout",
     "output_type": "stream",
     "text": [
      "https://news.yahoo.co.jp/pickup/6414252\n",
      "CDwindow-EF6B153D56E1C9EFF8F870CFAB581029\n"
     ]
    }
   ],
   "source": [
    "print(browser.current_url)\n",
    "print(browser.current_window_handle)"
   ]
  },
  {
   "cell_type": "markdown",
   "metadata": {},
   "source": [
    "#### リンクの取得\n",
    "* try-except : エラーが起きない場合と、起きた場合の処理を記入"
   ]
  },
  {
   "cell_type": "code",
   "execution_count": null,
   "metadata": {},
   "outputs": [],
   "source": [
    "links = []\n",
    "\n",
    "for i in range(len(get_a_tag)) : \n",
    "    try :\n",
    "        link_ = get_a_tag[i].get('href')\n",
    "        links.append(link_)\n",
    "    except :\n",
    "        pass # エラーを無視"
   ]
  },
  {
   "cell_type": "code",
   "execution_count": null,
   "metadata": {},
   "outputs": [],
   "source": []
  },
  {
   "cell_type": "code",
   "execution_count": null,
   "metadata": {},
   "outputs": [],
   "source": []
  },
  {
   "cell_type": "markdown",
   "metadata": {},
   "source": [
    "## 取得コード例"
   ]
  },
  {
   "cell_type": "markdown",
   "metadata": {},
   "source": [
    "#### ページ情報の取得"
   ]
  },
  {
   "cell_type": "code",
   "execution_count": 5,
   "metadata": {},
   "outputs": [
    {
     "name": "stdout",
     "output_type": "stream",
     "text": [
      "/city/product/31302\n",
      "/city/product/31203\n",
      "/city/product/31403\n",
      "/city/product/31371\n",
      "/city/product/31204\n",
      "/city/product/31386\n",
      "/city/product/31328\n",
      "/city/product/31000\n",
      "/city/product/31201\n",
      "/city/product/31389\n",
      "/city/product/31401\n",
      "/city/product/31384\n",
      "/city/product/31402\n",
      "/city/product/31390\n",
      "/city/product/31372\n",
      "/city/product/31364\n",
      "/city/product/31329\n",
      "/city/product/31370\n",
      "/city/product/31202\n",
      "/city/product/31325\n",
      "<span class=\"city-name__text js-city-name\">岩美町</span>\n",
      "<span class=\"city-name__text js-city-name\">倉吉市</span>\n",
      "<span class=\"city-name__text js-city-name\">江府町</span>\n",
      "<span class=\"city-name__text js-city-name\">琴浦町</span>\n",
      "<span class=\"city-name__text js-city-name\">境港市</span>\n",
      "<span class=\"city-name__text js-city-name\">大山町</span>\n",
      "<span class=\"city-name__text js-city-name\">智頭町</span>\n",
      "<span class=\"city-name__text js-city-name\">鳥取県</span>\n",
      "<span class=\"city-name__text js-city-name\">鳥取市</span>\n",
      "<span class=\"city-name__text js-city-name\">南部町</span>\n",
      "<span class=\"city-name__text js-city-name\">日南町</span>\n",
      "<span class=\"city-name__text js-city-name\">日吉津村</span>\n",
      "<span class=\"city-name__text js-city-name\">日野町</span>\n",
      "<span class=\"city-name__text js-city-name\">伯耆町</span>\n",
      "<span class=\"city-name__text js-city-name\">北栄町</span>\n",
      "<span class=\"city-name__text js-city-name\">三朝町</span>\n",
      "<span class=\"city-name__text js-city-name\">八頭町</span>\n",
      "<span class=\"city-name__text js-city-name\">湯梨浜町</span>\n",
      "<span class=\"city-name__text js-city-name\">米子市</span>\n",
      "<span class=\"city-name__text js-city-name\">若桜町</span>\n"
     ]
    }
   ],
   "source": [
    "import requests\n",
    "from bs4 import BeautifulSoup\n",
    "\n",
    "# URLを取得\n",
    "url = 'https://www.furusato-tax.jp/area/prefecture/31?area_prefecture'\n",
    "html = requests.get(url).text\n",
    "\n",
    "# BeautifulSoup4で解析\n",
    "soup = BeautifulSoup(html, 'html.parser')\n",
    "\n",
    "# CSSセレクタで a タグの class=indextile の要素一覧を取得\n",
    "a_list = soup.find_all('a', attrs={'class' : 'navigation--local__link--bold is-active'})\n",
    "b_list = soup.find_all('span', attrs={'class' : 'city-name__text js-city-name'})\n",
    "\n",
    "# 取得した後、繰り返し a タグの一覧を繰り返す\n",
    "for a in a_list:\n",
    "    # リンク先(href属性)を表示\n",
    "    print(a.attrs['href'])\n",
    "\n",
    "for b in b_list:\n",
    "    print(b)"
   ]
  },
  {
   "cell_type": "markdown",
   "metadata": {},
   "source": [
    "#### リンク先の相対URLを絶対URLに変換"
   ]
  },
  {
   "cell_type": "code",
   "execution_count": 16,
   "metadata": {},
   "outputs": [
    {
     "name": "stdout",
     "output_type": "stream",
     "text": [
      "url= https://www.furusato-tax.jp/area/prefecture/31?area_prefecture//city/product/31302\n",
      "url= https://www.furusato-tax.jp/area/prefecture/31?area_prefecture//city/product/31203\n",
      "url= https://www.furusato-tax.jp/area/prefecture/31?area_prefecture//city/product/31403\n",
      "url= https://www.furusato-tax.jp/area/prefecture/31?area_prefecture//city/product/31371\n",
      "url= https://www.furusato-tax.jp/area/prefecture/31?area_prefecture//city/product/31204\n",
      "url= https://www.furusato-tax.jp/area/prefecture/31?area_prefecture//city/product/31386\n",
      "url= https://www.furusato-tax.jp/area/prefecture/31?area_prefecture//city/product/31328\n",
      "url= https://www.furusato-tax.jp/area/prefecture/31?area_prefecture//city/product/31000\n",
      "url= https://www.furusato-tax.jp/area/prefecture/31?area_prefecture//city/product/31201\n",
      "url= https://www.furusato-tax.jp/area/prefecture/31?area_prefecture//city/product/31389\n",
      "url= https://www.furusato-tax.jp/area/prefecture/31?area_prefecture//city/product/31401\n",
      "url= https://www.furusato-tax.jp/area/prefecture/31?area_prefecture//city/product/31384\n",
      "url= https://www.furusato-tax.jp/area/prefecture/31?area_prefecture//city/product/31402\n",
      "url= https://www.furusato-tax.jp/area/prefecture/31?area_prefecture//city/product/31390\n",
      "url= https://www.furusato-tax.jp/area/prefecture/31?area_prefecture//city/product/31372\n",
      "url= https://www.furusato-tax.jp/area/prefecture/31?area_prefecture//city/product/31364\n",
      "url= https://www.furusato-tax.jp/area/prefecture/31?area_prefecture//city/product/31329\n",
      "url= https://www.furusato-tax.jp/area/prefecture/31?area_prefecture//city/product/31370\n",
      "url= https://www.furusato-tax.jp/area/prefecture/31?area_prefecture//city/product/31202\n",
      "url= https://www.furusato-tax.jp/area/prefecture/31?area_prefecture//city/product/31325\n"
     ]
    }
   ],
   "source": [
    "import os\n",
    "url = 'https://www.furusato-tax.jp/area/prefecture/31?area_prefecture'\n",
    "for a in a_list:\n",
    "    # リンク先(href属性)を表示\n",
    "    href = a.attrs['href']\n",
    "    full = url + r'/' + href\n",
    "    print(\"url=\", full)"
   ]
  },
  {
   "cell_type": "code",
   "execution_count": null,
   "metadata": {},
   "outputs": [],
   "source": []
  }
 ],
 "metadata": {
  "interpreter": {
   "hash": "ac59ebe37160ed0dfa835113d9b8498d9f09ceb179beaac4002f036b9467c963"
  },
  "kernelspec": {
   "display_name": "Python 3.9.5 64-bit",
   "language": "python",
   "name": "python3"
  },
  "language_info": {
   "codemirror_mode": {
    "name": "ipython",
    "version": 3
   },
   "file_extension": ".py",
   "mimetype": "text/x-python",
   "name": "python",
   "nbconvert_exporter": "python",
   "pygments_lexer": "ipython3",
   "version": "3.10.4"
  },
  "orig_nbformat": 4
 },
 "nbformat": 4,
 "nbformat_minor": 2
}
