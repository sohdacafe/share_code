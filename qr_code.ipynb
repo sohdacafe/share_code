{
 "cells": [
  {
   "cell_type": "markdown",
   "metadata": {},
   "source": [
    "# QR Code作成\n",
    "* pip install PyQRCode (QRコード画像作成)\n",
    "* pip install pypng (PNG化する場合にpypng)\n",
    "* 半角と全角を混ぜるとエラーが出る。片方だけなら問題ない。"
   ]
  },
  {
   "cell_type": "markdown",
   "metadata": {},
   "source": [
    "## ファイル名、情報を指定してQRコード作成"
   ]
  },
  {
   "cell_type": "code",
   "execution_count": 142,
   "metadata": {},
   "outputs": [],
   "source": [
    "qr_info = '0123456789'\n",
    "dir_name = r'C:\\Users\\sohda\\.vscode\\qr_code'\n",
    "file_name = 'QRtest_001.png'"
   ]
  },
  {
   "cell_type": "code",
   "execution_count": 143,
   "metadata": {},
   "outputs": [
    {
     "data": {
      "text/plain": [
       "'C:\\\\Users\\\\sohda\\\\.vscode\\\\qr_code/QRtest_001.png'"
      ]
     },
     "execution_count": 143,
     "metadata": {},
     "output_type": "execute_result"
    }
   ],
   "source": [
    "file_path = '/'.join([dir_name, file_name])\n",
    "file_path"
   ]
  },
  {
   "cell_type": "code",
   "execution_count": 144,
   "metadata": {},
   "outputs": [],
   "source": [
    "import pyqrcode\n",
    "\n",
    "# QRコード作成\n",
    "code = pyqrcode.create(qr_info, error='L', version=3, mode='binary')\n",
    "code.png(file_path, scale=5, module_color=[0, 0, 0, 128], background=[255, 255, 255])"
   ]
  },
  {
   "cell_type": "markdown",
   "metadata": {},
   "source": [
    "## リストからQRコードを作成"
   ]
  },
  {
   "cell_type": "code",
   "execution_count": 1,
   "metadata": {},
   "outputs": [],
   "source": [
    "import os\n",
    "import openpyxl\n",
    "import pyqrcode\n",
    "import pandas as pd\n",
    "from PIL import Image"
   ]
  },
  {
   "cell_type": "markdown",
   "metadata": {},
   "source": [
    "#### エクセルリストの読み込み\n",
    "* ディレクトリ指定\n",
    "* エクセルリストファイルの読み込み"
   ]
  },
  {
   "cell_type": "code",
   "execution_count": 14,
   "metadata": {},
   "outputs": [
    {
     "data": {
      "text/plain": [
       "['qr_code_list.xlsx',\n",
       " 'test',\n",
       " 'test_001.png',\n",
       " 'test_002.png',\n",
       " 'test_003.png',\n",
       " 'test_004.png',\n",
       " 'test_005.png',\n",
       " 'test_abc_1.png',\n",
       " 'test_abc_3.png',\n",
       " 'test_abc_4.png',\n",
       " 'test_abc_5.png']"
      ]
     },
     "execution_count": 14,
     "metadata": {},
     "output_type": "execute_result"
    }
   ],
   "source": [
    "# ディレクトリ内のファイルを取得\n",
    "dir_name = r'C:\\Users\\sohda\\.vscode\\qr_code'\n",
    "files = os.listdir(dir_name)\n",
    "files"
   ]
  },
  {
   "cell_type": "code",
   "execution_count": 15,
   "metadata": {},
   "outputs": [
    {
     "name": "stdout",
     "output_type": "stream",
     "text": [
      "C:\\Users\\sohda\\.vscode\\qr_code/qr_code_list.xlsx\n"
     ]
    }
   ],
   "source": [
    "# エクセルのファイルパスを取得\n",
    "for file in files :\n",
    "    dirname = os.path.isdir(os.path.join(dir_name, file))\n",
    "    if file.endswith('.xlsx') :\n",
    "        file_path = '/'.join([dir_name, file])\n",
    "\n",
    "print(file_path)"
   ]
  },
  {
   "cell_type": "code",
   "execution_count": 16,
   "metadata": {},
   "outputs": [
    {
     "data": {
      "text/html": [
       "<div>\n",
       "<style scoped>\n",
       "    .dataframe tbody tr th:only-of-type {\n",
       "        vertical-align: middle;\n",
       "    }\n",
       "\n",
       "    .dataframe tbody tr th {\n",
       "        vertical-align: top;\n",
       "    }\n",
       "\n",
       "    .dataframe thead th {\n",
       "        text-align: right;\n",
       "    }\n",
       "</style>\n",
       "<table border=\"1\" class=\"dataframe\">\n",
       "  <thead>\n",
       "    <tr style=\"text-align: right;\">\n",
       "      <th></th>\n",
       "      <th>No.</th>\n",
       "      <th>file name</th>\n",
       "      <th>info.</th>\n",
       "      <th>QR code</th>\n",
       "    </tr>\n",
       "  </thead>\n",
       "  <tbody>\n",
       "    <tr>\n",
       "      <th>0</th>\n",
       "      <td>1</td>\n",
       "      <td>test_001</td>\n",
       "      <td>1500</td>\n",
       "      <td>NaN</td>\n",
       "    </tr>\n",
       "    <tr>\n",
       "      <th>1</th>\n",
       "      <td>2</td>\n",
       "      <td>test_002</td>\n",
       "      <td>2000</td>\n",
       "      <td>NaN</td>\n",
       "    </tr>\n",
       "    <tr>\n",
       "      <th>2</th>\n",
       "      <td>3</td>\n",
       "      <td>test_003</td>\n",
       "      <td>0123456789</td>\n",
       "      <td>NaN</td>\n",
       "    </tr>\n",
       "  </tbody>\n",
       "</table>\n",
       "</div>"
      ],
      "text/plain": [
       "   No. file name       info.  QR code\n",
       "0    1  test_001        1500      NaN\n",
       "1    2  test_002        2000      NaN\n",
       "2    3  test_003  0123456789      NaN"
      ]
     },
     "execution_count": 16,
     "metadata": {},
     "output_type": "execute_result"
    }
   ],
   "source": [
    "df = pd.read_excel(file_path)\n",
    "df.head(3)"
   ]
  },
  {
   "cell_type": "markdown",
   "metadata": {},
   "source": [
    "#### リストから読み込んでQRコード作成\n",
    "* ファイル名、情報の読み込み"
   ]
  },
  {
   "cell_type": "code",
   "execution_count": 17,
   "metadata": {},
   "outputs": [],
   "source": [
    "# QRコード作成の関数\n",
    "def make_qr_code (qr_name, qr_info, dir_name) :\n",
    "    file_path = '/'.join([dir_name, qr_name])\n",
    "    code = pyqrcode.create(qr_info, error='L', version=3, mode='binary')\n",
    "    code.png(file_path, scale=5, module_color=[0, 0, 0, 128], background=[255, 255, 255])"
   ]
  },
  {
   "cell_type": "code",
   "execution_count": 18,
   "metadata": {},
   "outputs": [
    {
     "name": "stdout",
     "output_type": "stream",
     "text": [
      "test_001.png : コード作成完了\n",
      "test_002.png : コード作成完了\n",
      "test_003.png : コード作成完了\n",
      "test_004.png : コード作成完了\n",
      "test_005.png : コード作成完了\n",
      "test_006.png : コード作成完了\n",
      "test_007.png : コード作成完了\n",
      "test_008.png : コード作成完了\n",
      "test_009.png : コード作成完了\n",
      "test_010.png : コード作成完了\n",
      "test_011.png : コード作成完了\n",
      "test_012.png : コード作成完了\n",
      "test_013.png : コード作成完了\n",
      "test_014.png : コード作成完了\n",
      "test_015.png : コード作成完了\n",
      "test_016.png : コード作成完了\n",
      "test_017.png : コード作成完了\n",
      "test_018.png : コード作成完了\n",
      "test_019.png : コード作成完了\n",
      "test_020.png : コード作成完了\n"
     ]
    }
   ],
   "source": [
    "# QRコード作成\n",
    "for i in range(len(df)) :\n",
    "    qr_name = df.iat[i,1] + '.png'\n",
    "    qr_info = df.iat[i,2]\n",
    "    print(qr_name, ': コード作成完了')\n",
    "    make_qr_code(qr_name, qr_info, dir_name)"
   ]
  },
  {
   "cell_type": "markdown",
   "metadata": {},
   "source": [
    "#### QRコードをエクセルに貼り付け"
   ]
  },
  {
   "cell_type": "code",
   "execution_count": 19,
   "metadata": {},
   "outputs": [],
   "source": [
    "# QRコード貼り付け関数\n",
    "def qr_code_paste (i, img_path) :\n",
    "    posi = sheet.cell(row=i+2,column=4).coordinate # D列にimg貼り付け\n",
    "    img_to_excel = openpyxl.drawing.image.Image(img_path)\n",
    "\n",
    "    # 行の高さを変更、画像サイズは185×185固定とする\n",
    "    sheet.row_dimensions[i+2].height = 150\n",
    "    # 列の幅を変更\n",
    "    sheet.column_dimensions['D'].width = 30\n",
    "    #指定の位置に画像を貼り付け\n",
    "    sheet.add_image(img_to_excel, posi)"
   ]
  },
  {
   "cell_type": "code",
   "execution_count": 20,
   "metadata": {},
   "outputs": [
    {
     "name": "stdout",
     "output_type": "stream",
     "text": [
      "test_001.png :コード貼り付け完了\n",
      "test_002.png :コード貼り付け完了\n",
      "test_003.png :コード貼り付け完了\n",
      "test_004.png :コード貼り付け完了\n",
      "test_005.png :コード貼り付け完了\n",
      "test_006.png :コード貼り付け完了\n",
      "test_007.png :コード貼り付け完了\n",
      "test_008.png :コード貼り付け完了\n",
      "test_009.png :コード貼り付け完了\n",
      "test_010.png :コード貼り付け完了\n",
      "test_011.png :コード貼り付け完了\n",
      "test_012.png :コード貼り付け完了\n",
      "test_013.png :コード貼り付け完了\n",
      "test_014.png :コード貼り付け完了\n",
      "test_015.png :コード貼り付け完了\n",
      "test_016.png :コード貼り付け完了\n",
      "test_017.png :コード貼り付け完了\n",
      "test_018.png :コード貼り付け完了\n",
      "test_019.png :コード貼り付け完了\n",
      "test_020.png :コード貼り付け完了\n"
     ]
    }
   ],
   "source": [
    "# ワークシート編集：\n",
    "workbook = openpyxl.load_workbook(file_path)\n",
    "sheet = workbook.active\n",
    "\n",
    "# リストにQRコードを貼り付け\n",
    "for i in range(len(df)) :\n",
    "    qr_name = df.iat[i,1] + '.png'\n",
    "    file = qr_name\n",
    "    print(qr_name, ':コード貼り付け完了')\n",
    "    img_path = os.path.join(dir_name, file)\n",
    "    qr_code_paste(i, img_path)\n",
    "\n",
    "# エクセルを保存\n",
    "workbook.save(file_path)"
   ]
  },
  {
   "cell_type": "code",
   "execution_count": null,
   "metadata": {},
   "outputs": [],
   "source": []
  },
  {
   "cell_type": "markdown",
   "metadata": {},
   "source": [
    "#### ディレクトリ作成"
   ]
  },
  {
   "cell_type": "code",
   "execution_count": 37,
   "metadata": {},
   "outputs": [
    {
     "name": "stdout",
     "output_type": "stream",
     "text": [
      "Directory created successful.\n"
     ]
    }
   ],
   "source": [
    "dir_name = r'C:\\Users\\sohda\\.vscode\\qr_code'\n",
    "qr_dir = dir_name + r'\\test'\n",
    "\n",
    "if not os.path.exists(qr_dir):\n",
    "    # ディレクトリが存在しない場合、ディレクトリを作成する\n",
    "    os.makedirs(qr_dir)\n",
    "    print('Directory created successful.')\n",
    "else :\n",
    "    print('This directory is already exists.')"
   ]
  },
  {
   "cell_type": "code",
   "execution_count": null,
   "metadata": {},
   "outputs": [],
   "source": []
  }
 ],
 "metadata": {
  "interpreter": {
   "hash": "78489e0927f2ee9f95faa7a6b246e05c249e30a9c178b56c7f30e2d4148b7f67"
  },
  "kernelspec": {
   "display_name": "Python 3.10.4 64-bit",
   "language": "python",
   "name": "python3"
  },
  "language_info": {
   "codemirror_mode": {
    "name": "ipython",
    "version": 3
   },
   "file_extension": ".py",
   "mimetype": "text/x-python",
   "name": "python",
   "nbconvert_exporter": "python",
   "pygments_lexer": "ipython3",
   "version": "3.10.4"
  },
  "orig_nbformat": 4
 },
 "nbformat": 4,
 "nbformat_minor": 2
}
